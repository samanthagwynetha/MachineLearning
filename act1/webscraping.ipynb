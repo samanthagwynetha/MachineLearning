{
  "cells": [
    {
      "cell_type": "code",
      "execution_count": 1,
      "metadata": {
        "colab": {
          "base_uri": "https://localhost:8080/"
        },
        "id": "cOwhMF63GC3a",
        "outputId": "dc502e92-6624-440f-94b5-0e76cbe9d0c9"
      },
      "outputs": [
        {
          "name": "stdout",
          "output_type": "stream",
          "text": [
            "Defaulting to user installation because normal site-packages is not writeable\n",
            "Requirement already satisfied: requests in c:\\program files\\python313\\lib\\site-packages (2.32.4)\n",
            "Requirement already satisfied: charset_normalizer<4,>=2 in c:\\program files\\python313\\lib\\site-packages (from requests) (3.4.2)\n",
            "Requirement already satisfied: idna<4,>=2.5 in c:\\program files\\python313\\lib\\site-packages (from requests) (3.10)\n",
            "Requirement already satisfied: urllib3<3,>=1.21.1 in c:\\program files\\python313\\lib\\site-packages (from requests) (2.5.0)\n",
            "Requirement already satisfied: certifi>=2017.4.17 in c:\\program files\\python313\\lib\\site-packages (from requests) (2025.6.15)\n",
            "Defaulting to user installation because normal site-packages is not writeable\n",
            "Requirement already satisfied: beautifulsoup4 in c:\\program files\\python313\\lib\\site-packages (4.13.4)\n",
            "Requirement already satisfied: soupsieve>1.2 in c:\\program files\\python313\\lib\\site-packages (from beautifulsoup4) (2.7)\n",
            "Requirement already satisfied: typing-extensions>=4.0.0 in c:\\program files\\python313\\lib\\site-packages (from beautifulsoup4) (4.14.0)\n"
          ]
        }
      ],
      "source": [
        "!pip install requests\n",
        "!pip install beautifulsoup4"
      ]
    },
    {
      "cell_type": "code",
      "execution_count": 2,
      "metadata": {
        "id": "uIzfcUBEGpWn"
      },
      "outputs": [],
      "source": [
        "import requests\n",
        "from bs4 import BeautifulSoup\n",
        "import pandas as pd\n"
      ]
    },
    {
      "cell_type": "code",
      "execution_count": 3,
      "metadata": {
        "colab": {
          "base_uri": "https://localhost:8080/",
          "height": 206
        },
        "id": "DpPRkZbSGuRW",
        "outputId": "5b205725-7307-407b-8cab-6dad90ef64dc"
      },
      "outputs": [
        {
          "data": {
            "text/html": [
              "<div>\n",
              "<style scoped>\n",
              "    .dataframe tbody tr th:only-of-type {\n",
              "        vertical-align: middle;\n",
              "    }\n",
              "\n",
              "    .dataframe tbody tr th {\n",
              "        vertical-align: top;\n",
              "    }\n",
              "\n",
              "    .dataframe thead th {\n",
              "        text-align: right;\n",
              "    }\n",
              "</style>\n",
              "<table border=\"1\" class=\"dataframe\">\n",
              "  <thead>\n",
              "    <tr style=\"text-align: right;\">\n",
              "      <th></th>\n",
              "      <th>title</th>\n",
              "      <th>price</th>\n",
              "      <th>availability</th>\n",
              "      <th>rating</th>\n",
              "    </tr>\n",
              "  </thead>\n",
              "  <tbody>\n",
              "    <tr>\n",
              "      <th>0</th>\n",
              "      <td>A Light in the Attic</td>\n",
              "      <td>Â£51.77</td>\n",
              "      <td>In stock</td>\n",
              "      <td>Three</td>\n",
              "    </tr>\n",
              "    <tr>\n",
              "      <th>1</th>\n",
              "      <td>Tipping the Velvet</td>\n",
              "      <td>Â£53.74</td>\n",
              "      <td>In stock</td>\n",
              "      <td>One</td>\n",
              "    </tr>\n",
              "    <tr>\n",
              "      <th>2</th>\n",
              "      <td>Soumission</td>\n",
              "      <td>Â£50.10</td>\n",
              "      <td>In stock</td>\n",
              "      <td>One</td>\n",
              "    </tr>\n",
              "    <tr>\n",
              "      <th>3</th>\n",
              "      <td>Sharp Objects</td>\n",
              "      <td>Â£47.82</td>\n",
              "      <td>In stock</td>\n",
              "      <td>Four</td>\n",
              "    </tr>\n",
              "    <tr>\n",
              "      <th>4</th>\n",
              "      <td>Sapiens: A Brief History of Humankind</td>\n",
              "      <td>Â£54.23</td>\n",
              "      <td>In stock</td>\n",
              "      <td>Five</td>\n",
              "    </tr>\n",
              "  </tbody>\n",
              "</table>\n",
              "</div>"
            ],
            "text/plain": [
              "                                   title    price availability rating\n",
              "0                   A Light in the Attic  Â£51.77     In stock  Three\n",
              "1                     Tipping the Velvet  Â£53.74     In stock    One\n",
              "2                             Soumission  Â£50.10     In stock    One\n",
              "3                          Sharp Objects  Â£47.82     In stock   Four\n",
              "4  Sapiens: A Brief History of Humankind  Â£54.23     In stock   Five"
            ]
          },
          "execution_count": 3,
          "metadata": {},
          "output_type": "execute_result"
        }
      ],
      "source": [
        "base_url = \"https://books.toscrape.com/catalogue/page-{}.html\"\n",
        "\n",
        "titles = []\n",
        "prices = []\n",
        "availability = []\n",
        "ratings = []\n",
        "\n",
        "for page in range(1, 6):\n",
        "    url = base_url.format(page)\n",
        "    res = requests.get(url)\n",
        "    soup = BeautifulSoup(res.text, 'html.parser')\n",
        "    books = soup.find_all('article', class_='product_pod')\n",
        "\n",
        "    for book in books:\n",
        "        titles.append(book.h3.a['title'])\n",
        "        prices.append(book.find('p', class_='price_color').text)\n",
        "        availability.append(book.find('p', class_='instock availability').text.strip())\n",
        "        rating_class = book.p.get('class')[1]\n",
        "        ratings.append(rating_class)\n",
        "\n",
        "df = pd.DataFrame({\n",
        "    'title': titles,\n",
        "    'price': prices,\n",
        "    'availability': availability,\n",
        "    'rating': ratings\n",
        "})\n",
        "\n",
        "df.head()\n"
      ]
    },
    {
      "cell_type": "code",
      "execution_count": 4,
      "metadata": {
        "id": "OVjtpw9tG0Xn"
      },
      "outputs": [],
      "source": [
        "df.to_csv('raw_books_data.csv', index=False)\n"
      ]
    },
    {
      "cell_type": "code",
      "execution_count": 5,
      "metadata": {
        "colab": {
          "base_uri": "https://localhost:8080/",
          "height": 206
        },
        "id": "CT033idoIuRv",
        "outputId": "c3e554ef-679a-40b7-b96b-c14fa9c3f26b"
      },
      "outputs": [
        {
          "data": {
            "text/html": [
              "<div>\n",
              "<style scoped>\n",
              "    .dataframe tbody tr th:only-of-type {\n",
              "        vertical-align: middle;\n",
              "    }\n",
              "\n",
              "    .dataframe tbody tr th {\n",
              "        vertical-align: top;\n",
              "    }\n",
              "\n",
              "    .dataframe thead th {\n",
              "        text-align: right;\n",
              "    }\n",
              "</style>\n",
              "<table border=\"1\" class=\"dataframe\">\n",
              "  <thead>\n",
              "    <tr style=\"text-align: right;\">\n",
              "      <th></th>\n",
              "      <th>title</th>\n",
              "      <th>price</th>\n",
              "      <th>availability</th>\n",
              "      <th>rating</th>\n",
              "    </tr>\n",
              "  </thead>\n",
              "  <tbody>\n",
              "    <tr>\n",
              "      <th>0</th>\n",
              "      <td>A Light in the Attic</td>\n",
              "      <td>Â£51.77</td>\n",
              "      <td>In stock</td>\n",
              "      <td>Three</td>\n",
              "    </tr>\n",
              "    <tr>\n",
              "      <th>1</th>\n",
              "      <td>Tipping the Velvet</td>\n",
              "      <td>Â£53.74</td>\n",
              "      <td>In stock</td>\n",
              "      <td>One</td>\n",
              "    </tr>\n",
              "    <tr>\n",
              "      <th>2</th>\n",
              "      <td>Soumission</td>\n",
              "      <td>Â£50.10</td>\n",
              "      <td>In stock</td>\n",
              "      <td>One</td>\n",
              "    </tr>\n",
              "    <tr>\n",
              "      <th>3</th>\n",
              "      <td>Sharp Objects</td>\n",
              "      <td>Â£47.82</td>\n",
              "      <td>In stock</td>\n",
              "      <td>Four</td>\n",
              "    </tr>\n",
              "    <tr>\n",
              "      <th>4</th>\n",
              "      <td>Sapiens: A Brief History of Humankind</td>\n",
              "      <td>Â£54.23</td>\n",
              "      <td>In stock</td>\n",
              "      <td>Five</td>\n",
              "    </tr>\n",
              "  </tbody>\n",
              "</table>\n",
              "</div>"
            ],
            "text/plain": [
              "                                   title    price availability rating\n",
              "0                   A Light in the Attic  Â£51.77     In stock  Three\n",
              "1                     Tipping the Velvet  Â£53.74     In stock    One\n",
              "2                             Soumission  Â£50.10     In stock    One\n",
              "3                          Sharp Objects  Â£47.82     In stock   Four\n",
              "4  Sapiens: A Brief History of Humankind  Â£54.23     In stock   Five"
            ]
          },
          "execution_count": 5,
          "metadata": {},
          "output_type": "execute_result"
        }
      ],
      "source": [
        "raw_df = pd.read_csv('raw_books_data.csv', encoding='utf-8-sig')\n",
        "raw_df.head()\n"
      ]
    },
    {
      "cell_type": "code",
      "execution_count": 6,
      "metadata": {
        "colab": {
          "base_uri": "https://localhost:8080/",
          "height": 206
        },
        "id": "syhvi6cAI8uD",
        "outputId": "428a0d06-5355-41ea-86cb-b443c5c568c1"
      },
      "outputs": [
        {
          "data": {
            "text/html": [
              "<div>\n",
              "<style scoped>\n",
              "    .dataframe tbody tr th:only-of-type {\n",
              "        vertical-align: middle;\n",
              "    }\n",
              "\n",
              "    .dataframe tbody tr th {\n",
              "        vertical-align: top;\n",
              "    }\n",
              "\n",
              "    .dataframe thead th {\n",
              "        text-align: right;\n",
              "    }\n",
              "</style>\n",
              "<table border=\"1\" class=\"dataframe\">\n",
              "  <thead>\n",
              "    <tr style=\"text-align: right;\">\n",
              "      <th></th>\n",
              "      <th>book_title</th>\n",
              "      <th>price</th>\n",
              "      <th>available</th>\n",
              "      <th>rating</th>\n",
              "    </tr>\n",
              "  </thead>\n",
              "  <tbody>\n",
              "    <tr>\n",
              "      <th>0</th>\n",
              "      <td>a light in the attic</td>\n",
              "      <td>51.77</td>\n",
              "      <td>True</td>\n",
              "      <td>3</td>\n",
              "    </tr>\n",
              "    <tr>\n",
              "      <th>1</th>\n",
              "      <td>tipping the velvet</td>\n",
              "      <td>53.74</td>\n",
              "      <td>True</td>\n",
              "      <td>1</td>\n",
              "    </tr>\n",
              "    <tr>\n",
              "      <th>2</th>\n",
              "      <td>soumission</td>\n",
              "      <td>50.10</td>\n",
              "      <td>True</td>\n",
              "      <td>1</td>\n",
              "    </tr>\n",
              "    <tr>\n",
              "      <th>3</th>\n",
              "      <td>sharp objects</td>\n",
              "      <td>47.82</td>\n",
              "      <td>True</td>\n",
              "      <td>4</td>\n",
              "    </tr>\n",
              "    <tr>\n",
              "      <th>4</th>\n",
              "      <td>sapiens: a brief history of humankind</td>\n",
              "      <td>54.23</td>\n",
              "      <td>True</td>\n",
              "      <td>5</td>\n",
              "    </tr>\n",
              "  </tbody>\n",
              "</table>\n",
              "</div>"
            ],
            "text/plain": [
              "                              book_title  price  available  rating\n",
              "0                   a light in the attic  51.77       True       3\n",
              "1                     tipping the velvet  53.74       True       1\n",
              "2                             soumission  50.10       True       1\n",
              "3                          sharp objects  47.82       True       4\n",
              "4  sapiens: a brief history of humankind  54.23       True       5"
            ]
          },
          "execution_count": 6,
          "metadata": {},
          "output_type": "execute_result"
        }
      ],
      "source": [
        "# Remove the £ symbol and convert to float\n",
        "raw_df['price'] = raw_df['price'].replace('[^0-9.]', '', regex=True).astype(float)\n",
        "\n",
        "# Convert rating words (One, Two, etc.) to numbers (1, 2, etc.)\n",
        "rating_map = {\n",
        "    'One': 1,\n",
        "    'Two': 2,\n",
        "    'Three': 3,\n",
        "    'Four': 4,\n",
        "    'Five': 5\n",
        "}\n",
        "raw_df['rating'] = raw_df['rating'].map(rating_map)\n",
        "\n",
        "# Make all titles lowercase and consistent\n",
        "raw_df['title'] = raw_df['title'].str.lower()\n",
        "\n",
        "# Convert to True if “In stock”, otherwise False\n",
        "raw_df['availability'] = raw_df['availability'].apply(lambda x: 'in stock' in x.lower())\n",
        "\n",
        "# Remove duplicates and missing values\n",
        "raw_df = raw_df.drop_duplicates()\n",
        "raw_df = raw_df.dropna()\n",
        "\n",
        "# Use snake_case like book_title, price, available, rating\n",
        "raw_df = raw_df.rename(columns={\n",
        "    'title': 'book_title',\n",
        "    'price': 'price',\n",
        "    'availability': 'available',\n",
        "    'rating': 'rating'\n",
        "})\n",
        "\n",
        "raw_df.head()\n"
      ]
    }
  ],
  "metadata": {
    "colab": {
      "provenance": []
    },
    "kernelspec": {
      "display_name": "Python 3",
      "name": "python3"
    },
    "language_info": {
      "codemirror_mode": {
        "name": "ipython",
        "version": 3
      },
      "file_extension": ".py",
      "mimetype": "text/x-python",
      "name": "python",
      "nbconvert_exporter": "python",
      "pygments_lexer": "ipython3",
      "version": "3.13.5"
    }
  },
  "nbformat": 4,
  "nbformat_minor": 0
}
