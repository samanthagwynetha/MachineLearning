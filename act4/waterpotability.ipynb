{
 "cells": [
  {
   "cell_type": "code",
   "execution_count": 29,
   "id": "93e048cc",
   "metadata": {},
   "outputs": [],
   "source": [
    "import pandas as pd\n",
    "import numpy as np\n",
    "import matplotlib.pyplot as plt\n",
    "import seaborn as sns\n",
    "from sklearn.model_selection import train_test_split\n",
    "from sklearn.preprocessing import StandardScaler\n",
    "from sklearn.linear_model import LogisticRegression\n",
    "from sklearn.ensemble import RandomForestClassifier\n",
    "from sklearn.metrics import accuracy_score, precision_score, recall_score, f1_score, confusion_matrix"
   ]
  },
  {
   "cell_type": "code",
   "execution_count": 30,
   "id": "e6aac952",
   "metadata": {},
   "outputs": [
    {
     "name": "stdout",
     "output_type": "stream",
     "text": [
      "Loading dataset...\n",
      "Dataset shape: (3276, 10)\n",
      "Columns: ['ph', 'Hardness', 'Solids', 'Chloramines', 'Sulfate', 'Conductivity', 'Organic_carbon', 'Trihalomethanes', 'Turbidity', 'Potability']\n"
     ]
    }
   ],
   "source": [
    "print(\"Loading dataset...\")\n",
    "df = pd.read_csv('water_potability.csv')\n",
    "print(f\"Dataset shape: {df.shape}\")\n",
    "print(f\"Columns: {df.columns.tolist()}\")"
   ]
  },
  {
   "cell_type": "code",
   "execution_count": 31,
   "id": "6229ecc2",
   "metadata": {},
   "outputs": [
    {
     "name": "stdout",
     "output_type": "stream",
     "text": [
      "\n",
      "First 5 rows:\n",
      "         ph    Hardness        Solids  Chloramines     Sulfate  Conductivity  \\\n",
      "0       NaN  204.890455  20791.318981     7.300212  368.516441    564.308654   \n",
      "1  3.716080  129.422921  18630.057858     6.635246         NaN    592.885359   \n",
      "2  8.099124  224.236259  19909.541732     9.275884         NaN    418.606213   \n",
      "3  8.316766  214.373394  22018.417441     8.059332  356.886136    363.266516   \n",
      "4  9.092223  181.101509  17978.986339     6.546600  310.135738    398.410813   \n",
      "\n",
      "   Organic_carbon  Trihalomethanes  Turbidity  Potability  \n",
      "0       10.379783        86.990970   2.963135           0  \n",
      "1       15.180013        56.329076   4.500656           0  \n",
      "2       16.868637        66.420093   3.055934           0  \n",
      "3       18.436524       100.341674   4.628771           0  \n",
      "4       11.558279        31.997993   4.075075           0  \n",
      "\n",
      "Target variable distribution:\n",
      "Potability\n",
      "0    1998\n",
      "1    1278\n",
      "Name: count, dtype: int64\n",
      "\n",
      "Missing values:\n",
      "ph                 491\n",
      "Hardness             0\n",
      "Solids               0\n",
      "Chloramines          0\n",
      "Sulfate            781\n",
      "Conductivity         0\n",
      "Organic_carbon       0\n",
      "Trihalomethanes    162\n",
      "Turbidity            0\n",
      "Potability           0\n",
      "dtype: int64\n"
     ]
    }
   ],
   "source": [
    "print(\"\\nFirst 5 rows:\")\n",
    "print(df.head())\n",
    "\n",
    "print(\"\\nTarget variable distribution:\")\n",
    "print(df['Potability'].value_counts())\n",
    "\n",
    "print(\"\\nMissing values:\")\n",
    "print(df.isnull().sum())"
   ]
  },
  {
   "cell_type": "code",
   "execution_count": 32,
   "id": "a653495f",
   "metadata": {},
   "outputs": [
    {
     "name": "stdout",
     "output_type": "stream",
     "text": [
      "\n",
      "Handling missing values...\n",
      "Missing values after filling:\n",
      "ph                 0\n",
      "Hardness           0\n",
      "Solids             0\n",
      "Chloramines        0\n",
      "Sulfate            0\n",
      "Conductivity       0\n",
      "Organic_carbon     0\n",
      "Trihalomethanes    0\n",
      "Turbidity          0\n",
      "Potability         0\n",
      "dtype: int64\n"
     ]
    }
   ],
   "source": [
    "print(\"\\nHandling missing values...\")\n",
    "\n",
    "for column in df.columns:\n",
    "    if df[column].isnull().sum() > 0:\n",
    "        df[column] = df[column].fillna(df[column].median())\n",
    "\n",
    "print(\"Missing values after filling:\")\n",
    "print(df.isnull().sum())"
   ]
  },
  {
   "cell_type": "code",
   "execution_count": 33,
   "id": "fb31a934",
   "metadata": {},
   "outputs": [
    {
     "name": "stdout",
     "output_type": "stream",
     "text": [
      "\n",
      "Features shape: (3276, 9)\n",
      "Target shape: (3276,)\n"
     ]
    }
   ],
   "source": [
    "X = df.drop('Potability', axis=1)  \n",
    "y = df['Potability'] \n",
    "\n",
    "print(f\"\\nFeatures shape: {X.shape}\")\n",
    "print(f\"Target shape: {y.shape}\")"
   ]
  },
  {
   "cell_type": "code",
   "execution_count": 34,
   "id": "ef67487f",
   "metadata": {},
   "outputs": [
    {
     "name": "stdout",
     "output_type": "stream",
     "text": [
      "\n",
      "Training set: (2620, 9)\n",
      "Test set: (656, 9)\n"
     ]
    }
   ],
   "source": [
    "X_train, X_test, y_train, y_test = train_test_split(X, y, test_size=0.2, random_state=42)\n",
    "\n",
    "print(f\"\\nTraining set: {X_train.shape}\")\n",
    "print(f\"Test set: {X_test.shape}\")"
   ]
  },
  {
   "cell_type": "code",
   "execution_count": 35,
   "id": "419d75e3",
   "metadata": {},
   "outputs": [
    {
     "name": "stdout",
     "output_type": "stream",
     "text": [
      "Data scaling completed!\n"
     ]
    }
   ],
   "source": [
    "scaler = StandardScaler()\n",
    "X_train_scaled = scaler.fit_transform(X_train)\n",
    "X_test_scaled = scaler.transform(X_test)\n",
    "\n",
    "print(\"Data scaling completed!\")"
   ]
  },
  {
   "cell_type": "code",
   "execution_count": 36,
   "id": "e3e76ff4",
   "metadata": {},
   "outputs": [
    {
     "name": "stdout",
     "output_type": "stream",
     "text": [
      "Models trained successfully!\n"
     ]
    }
   ],
   "source": [
    "lr_model = LogisticRegression(random_state=42)\n",
    "lr_model.fit(X_train_scaled, y_train)\n",
    "lr_pred = lr_model.predict(X_test_scaled)\n",
    "\n",
    "rf_model = RandomForestClassifier(random_state=42, n_estimators=100)\n",
    "rf_model.fit(X_train_scaled, y_train)\n",
    "rf_pred = rf_model.predict(X_test_scaled)\n",
    "\n",
    "print(\"Models trained successfully!\")"
   ]
  },
  {
   "cell_type": "code",
   "execution_count": 37,
   "id": "e992f7ec",
   "metadata": {},
   "outputs": [
    {
     "name": "stdout",
     "output_type": "stream",
     "text": [
      "\n",
      "Logistic Regression Results:\n",
      "Accuracy: 0.6280\n",
      "Precision: 0.0000\n",
      "Recall: 0.0000\n",
      "F1-Score: 0.0000\n",
      "\n",
      "Random Forest Results:\n",
      "Accuracy: 0.6738\n",
      "Precision: 0.5974\n",
      "Recall: 0.3770\n",
      "F1-Score: 0.4623\n"
     ]
    }
   ],
   "source": [
    "def evaluate_model(y_true, y_pred, model_name):\n",
    "    accuracy = accuracy_score(y_true, y_pred)\n",
    "    precision = precision_score(y_true, y_pred, zero_division=0)\n",
    "    recall = recall_score(y_true, y_pred)\n",
    "    f1 = f1_score(y_true, y_pred)\n",
    "    \n",
    "    print(f\"\\n{model_name} Results:\")\n",
    "    print(f\"Accuracy: {accuracy:.4f}\")\n",
    "    print(f\"Precision: {precision:.4f}\")\n",
    "    print(f\"Recall: {recall:.4f}\")\n",
    "    print(f\"F1-Score: {f1:.4f}\")\n",
    "    \n",
    "    return accuracy, precision, recall, f1\n",
    "\n",
    "lr_scores = evaluate_model(y_test, lr_pred, \"Logistic Regression\")\n",
    "rf_scores = evaluate_model(y_test, rf_pred, \"Random Forest\")\n"
   ]
  },
  {
   "cell_type": "code",
   "execution_count": null,
   "id": "232bbab6",
   "metadata": {},
   "outputs": [
    {
     "name": "stdout",
     "output_type": "stream",
     "text": [
      "\n",
      "==================================================\n",
      "MODEL COMPARISON\n",
      "==================================================\n",
      "           Logistic Regression  Random Forest\n",
      "Accuracy              0.628049       0.673780\n",
      "Precision             0.000000       0.597403\n",
      "Recall                0.000000       0.377049\n",
      "F1-Score              0.000000       0.462312\n",
      "\n",
      "Best Model: Random Forest\n"
     ]
    }
   ],
   "source": [
    "print(\"\\n\" + \"=\"*50)\n",
    "print(\"MODEL COMPARISON\")\n",
    "print(\"=\"*50)\n",
    "\n",
    "models_comparison = pd.DataFrame({\n",
    "    'Logistic Regression': lr_scores,\n",
    "    'Random Forest': rf_scores\n",
    "}, index=['Accuracy', 'Precision', 'Recall', 'F1-Score'])\n",
    "\n",
    "print(models_comparison)\n",
    "\n",
    "best_model_name = 'Random Forest' if rf_scores[0] > lr_scores[0] else 'Logistic Regression'\n",
    "best_pred = rf_pred if rf_scores[0] > lr_scores[0] else lr_pred\n",
    "\n",
    "print(f\"\\nBest Model: {best_model_name}\")"
   ]
  },
  {
   "cell_type": "code",
   "execution_count": null,
   "id": "71f7d6a3",
   "metadata": {},
   "outputs": [
    {
     "name": "stdout",
     "output_type": "stream",
     "text": [
      "\n",
      "Confusion Matrix for Random Forest:\n",
      "[[350  62]\n",
      " [152  92]]\n"
     ]
    }
   ],
   "source": [
    "cm = confusion_matrix(y_test, best_pred)\n",
    "print(f\"\\nConfusion Matrix for {best_model_name}:\")\n",
    "print(cm)"
   ]
  },
  {
   "cell_type": "code",
   "execution_count": null,
   "id": "564b8322",
   "metadata": {},
   "outputs": [
    {
     "data": {
      "image/png": "[encoded data removed]",
      "text/plain": [
       "<Figure size 1200x500 with 3 Axes>"
      ]
     },
     "metadata": {},
     "output_type": "display_data"
    }
   ],
   "source": [
    "fig, axes = plt.subplots(1, 2, figsize=(12, 5))  # Only 2 plots needed\n",
    "\n",
    "# Plot 1: Model Accuracy Comparison (optional but useful)\n",
    "models = ['Logistic Regression', 'Random Forest']\n",
    "accuracies = [lr_scores[0], rf_scores[0]]\n",
    "axes[0].bar(models, accuracies, color=['blue', 'green'])\n",
    "axes[0].set_title('Model Accuracy Comparison')\n",
    "axes[0].set_ylabel('Accuracy')\n",
    "for i, v in enumerate(accuracies):\n",
    "    axes[0].text(i, v + 0.01, f'{v:.3f}', ha='center')\n",
    "\n",
    "# Plot 2: Confusion Matrix (required)\n",
    "sns.heatmap(cm, annot=True, fmt='d', cmap='Blues',\n",
    "            xticklabels=['Not Potable', 'Potable'],\n",
    "            yticklabels=['Not Potable', 'Potable'], ax=axes[1])\n",
    "axes[1].set_title(f'Confusion Matrix - {best_model_name}')\n",
    "axes[1].set_xlabel('Predicted Label')\n",
    "axes[1].set_ylabel('True Label')\n",
    "\n",
    "plt.tight_layout()\n",
    "plt.show()\n"
   ]
  },
  {
   "cell_type": "code",
   "execution_count": null,
   "id": "8e39cbb3",
   "metadata": {},
   "outputs": [
    {
     "name": "stdout",
     "output_type": "stream",
     "text": [
      "Optimized Random Forest Results:\n",
      "Accuracy: 0.6814\n",
      "Precision: 0.6549\n",
      "Recall: 0.3033\n",
      "F1-Score: 0.4146\n",
      "Accuracy: 0.6814 (Target: ≥85%)\n"
     ]
    }
   ],
   "source": [
    "rf_optimized = RandomForestClassifier(\n",
    "    n_estimators=200,  \n",
    "    max_depth=15,      \n",
    "    random_state=42\n",
    ")\n",
    "\n",
    "rf_optimized.fit(X_train_scaled, y_train)\n",
    "rf_opt_pred = rf_optimized.predict(X_test_scaled)\n",
    "\n",
    "opt_accuracy = accuracy_score(y_test, rf_opt_pred)\n",
    "opt_precision = precision_score(y_test, rf_opt_pred)\n",
    "opt_recall = recall_score(y_test, rf_opt_pred)\n",
    "opt_f1 = f1_score(y_test, rf_opt_pred)\n",
    "\n",
    "print(\"Optimized Random Forest Results:\")\n",
    "print(f\"Accuracy: {opt_accuracy:.4f}\")\n",
    "print(f\"Precision: {opt_precision:.4f}\")\n",
    "print(f\"Recall: {opt_recall:.4f}\")\n",
    "print(f\"F1-Score: {opt_f1:.4f}\")\n",
    "\n",
    "if opt_accuracy >= 0.85:\n",
    "    print(f\"Accuracy: {opt_accuracy:.4f} (≥85%)\")\n",
    "else:\n",
    "    print(f\"Accuracy: {opt_accuracy:.4f} (Target: ≥85%)\")"
   ]
  },
  {
   "cell_type": "markdown",
   "id": "6e4c72a5",
   "metadata": {},
   "source": []
  }
 ],
 "metadata": {
  "kernelspec": {
   "display_name": "Python 3",
   "language": "python",
   "name": "python3"
  },
  "language_info": {
   "codemirror_mode": {
    "name": "ipython",
    "version": 3
   },
   "file_extension": ".py",
   "mimetype": "text/x-python",
   "name": "python",
   "nbconvert_exporter": "python",
   "pygments_lexer": "ipython3",
   "version": "3.13.5"
  }
 },
 "nbformat": 4,
 "nbformat_minor": 5
}
